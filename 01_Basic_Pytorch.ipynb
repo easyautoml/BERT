{
 "cells": [
  {
   "cell_type": "code",
   "execution_count": 1,
   "id": "6c77ac61-90e6-4be5-9bfc-b9485998b56a",
   "metadata": {},
   "outputs": [
    {
     "name": "stderr",
     "output_type": "stream",
     "text": [
      "C:\\Users\\Onsiter\\.conda\\envs\\nlp\\lib\\site-packages\\tqdm\\auto.py:22: TqdmWarning: IProgress not found. Please update jupyter and ipywidgets. See https://ipywidgets.readthedocs.io/en/stable/user_install.html\n",
      "  from .autonotebook import tqdm as notebook_tqdm\n"
     ]
    }
   ],
   "source": [
    "import torch\n",
    "from sklearn.datasets import make_regression\n",
    "import pandas as pd\n",
    "from torch.autograd import Variable"
   ]
  },
  {
   "cell_type": "code",
   "execution_count": 125,
   "id": "33496149-b9cf-49a1-9eab-61a6c911f820",
   "metadata": {},
   "outputs": [],
   "source": [
    "X, y = make_regression(n_features=4, n_informative=2, random_state=0, shuffle=False)"
   ]
  },
  {
   "cell_type": "code",
   "execution_count": 3,
   "id": "ff5aa486-038f-4338-8168-a7aba4379036",
   "metadata": {},
   "outputs": [
    {
     "data": {
      "text/html": [
       "<div>\n",
       "<style scoped>\n",
       "    .dataframe tbody tr th:only-of-type {\n",
       "        vertical-align: middle;\n",
       "    }\n",
       "\n",
       "    .dataframe tbody tr th {\n",
       "        vertical-align: top;\n",
       "    }\n",
       "\n",
       "    .dataframe thead th {\n",
       "        text-align: right;\n",
       "    }\n",
       "</style>\n",
       "<table border=\"1\" class=\"dataframe\">\n",
       "  <thead>\n",
       "    <tr style=\"text-align: right;\">\n",
       "      <th></th>\n",
       "      <th>x1</th>\n",
       "      <th>x2</th>\n",
       "      <th>x3</th>\n",
       "      <th>x4</th>\n",
       "      <th>y</th>\n",
       "    </tr>\n",
       "  </thead>\n",
       "  <tbody>\n",
       "    <tr>\n",
       "      <th>0</th>\n",
       "      <td>1.764052</td>\n",
       "      <td>0.400157</td>\n",
       "      <td>0.978738</td>\n",
       "      <td>2.240893</td>\n",
       "      <td>49.822907</td>\n",
       "    </tr>\n",
       "    <tr>\n",
       "      <th>1</th>\n",
       "      <td>1.867558</td>\n",
       "      <td>-0.977278</td>\n",
       "      <td>0.950088</td>\n",
       "      <td>-0.151357</td>\n",
       "      <td>4.877286</td>\n",
       "    </tr>\n",
       "    <tr>\n",
       "      <th>2</th>\n",
       "      <td>-0.103219</td>\n",
       "      <td>0.410599</td>\n",
       "      <td>0.144044</td>\n",
       "      <td>1.454274</td>\n",
       "      <td>11.914875</td>\n",
       "    </tr>\n",
       "    <tr>\n",
       "      <th>3</th>\n",
       "      <td>0.761038</td>\n",
       "      <td>0.121675</td>\n",
       "      <td>0.443863</td>\n",
       "      <td>0.333674</td>\n",
       "      <td>19.753078</td>\n",
       "    </tr>\n",
       "    <tr>\n",
       "      <th>4</th>\n",
       "      <td>1.494079</td>\n",
       "      <td>-0.205158</td>\n",
       "      <td>0.313068</td>\n",
       "      <td>-0.854096</td>\n",
       "      <td>23.607000</td>\n",
       "    </tr>\n",
       "    <tr>\n",
       "      <th>...</th>\n",
       "      <td>...</td>\n",
       "      <td>...</td>\n",
       "      <td>...</td>\n",
       "      <td>...</td>\n",
       "      <td>...</td>\n",
       "    </tr>\n",
       "    <tr>\n",
       "      <th>95</th>\n",
       "      <td>-1.698106</td>\n",
       "      <td>0.387280</td>\n",
       "      <td>-2.255564</td>\n",
       "      <td>-1.022507</td>\n",
       "      <td>-21.564910</td>\n",
       "    </tr>\n",
       "    <tr>\n",
       "      <th>96</th>\n",
       "      <td>0.038631</td>\n",
       "      <td>-1.656715</td>\n",
       "      <td>-0.985511</td>\n",
       "      <td>-1.471835</td>\n",
       "      <td>-55.818011</td>\n",
       "    </tr>\n",
       "    <tr>\n",
       "      <th>97</th>\n",
       "      <td>1.648135</td>\n",
       "      <td>0.164228</td>\n",
       "      <td>0.567290</td>\n",
       "      <td>-0.222675</td>\n",
       "      <td>39.385820</td>\n",
       "    </tr>\n",
       "    <tr>\n",
       "      <th>98</th>\n",
       "      <td>-0.353432</td>\n",
       "      <td>-1.616474</td>\n",
       "      <td>-0.291837</td>\n",
       "      <td>-0.761492</td>\n",
       "      <td>-62.477272</td>\n",
       "    </tr>\n",
       "    <tr>\n",
       "      <th>99</th>\n",
       "      <td>0.857924</td>\n",
       "      <td>1.141102</td>\n",
       "      <td>1.466579</td>\n",
       "      <td>0.852552</td>\n",
       "      <td>56.572129</td>\n",
       "    </tr>\n",
       "  </tbody>\n",
       "</table>\n",
       "<p>100 rows × 5 columns</p>\n",
       "</div>"
      ],
      "text/plain": [
       "          x1        x2        x3        x4          y\n",
       "0   1.764052  0.400157  0.978738  2.240893  49.822907\n",
       "1   1.867558 -0.977278  0.950088 -0.151357   4.877286\n",
       "2  -0.103219  0.410599  0.144044  1.454274  11.914875\n",
       "3   0.761038  0.121675  0.443863  0.333674  19.753078\n",
       "4   1.494079 -0.205158  0.313068 -0.854096  23.607000\n",
       "..       ...       ...       ...       ...        ...\n",
       "95 -1.698106  0.387280 -2.255564 -1.022507 -21.564910\n",
       "96  0.038631 -1.656715 -0.985511 -1.471835 -55.818011\n",
       "97  1.648135  0.164228  0.567290 -0.222675  39.385820\n",
       "98 -0.353432 -1.616474 -0.291837 -0.761492 -62.477272\n",
       "99  0.857924  1.141102  1.466579  0.852552  56.572129\n",
       "\n",
       "[100 rows x 5 columns]"
      ]
     },
     "execution_count": 3,
     "metadata": {},
     "output_type": "execute_result"
    }
   ],
   "source": [
    "df_data"
   ]
  },
  {
   "cell_type": "markdown",
   "id": "2465b03d-8b6f-4ec9-a697-4158ef75097c",
   "metadata": {},
   "source": [
    "# I. Basic Concept"
   ]
  },
  {
   "cell_type": "markdown",
   "id": "eb79b18e-9c44-4f65-99df-0cc582be1a9d",
   "metadata": {},
   "source": [
    "## 1. Dataset Class"
   ]
  },
  {
   "cell_type": "markdown",
   "id": "08395b7a-7988-4688-a33f-72c7ae409fec",
   "metadata": {},
   "source": [
    "Thông thường Dataset sẽ được kế thừa từ class Dataset.\n",
    "\n",
    "Tuy nhiên không nhất thiết phải kế thừa, chỉ cần tạo class theo kiến trúc như bên dưới"
   ]
  },
  {
   "cell_type": "code",
   "execution_count": 4,
   "id": "2d97e500-3091-4232-8548-162ccd36564f",
   "metadata": {},
   "outputs": [],
   "source": [
    "class CustomDataset:\n",
    "    def __init__(self, data, target):\n",
    "        self.data = data\n",
    "        self.target = target\n",
    "    \n",
    "    def __len__(self):\n",
    "        \"\"\"\n",
    "        Return length of data\n",
    "        \"\"\"\n",
    "        return len(self.data)\n",
    "    \n",
    "    def __getitem__(self, idx):\n",
    "        \"\"\"\n",
    "        Return sample at idx as dictionary and data type is tensor\n",
    "        \"\"\"\n",
    "        current_sample = self.data[idx, :]\n",
    "        current_target = self.target[idx]\n",
    "        return {\n",
    "            \"sample\": torch.tensor(current_sample, dtype=torch.float),\n",
    "            \"target\": torch.tensor(current_target, dtype=torch.long)\n",
    "        }"
   ]
  },
  {
   "cell_type": "code",
   "execution_count": 5,
   "id": "acdcc4f5-9718-40fd-8aee-bef146c49691",
   "metadata": {},
   "outputs": [],
   "source": [
    "dataset = CustomDataset(X, y)"
   ]
  },
  {
   "cell_type": "markdown",
   "id": "15b3a3e4-a58a-4cf7-b2c5-16cd8367b1e3",
   "metadata": {},
   "source": [
    "Từng sample riêng lẻ được lấy ra như 1 list thông thường."
   ]
  },
  {
   "cell_type": "code",
   "execution_count": 6,
   "id": "4e54d2ae-72da-472a-a221-307232054a13",
   "metadata": {},
   "outputs": [
    {
     "data": {
      "text/plain": [
       "{'sample': tensor([1.7641, 0.4002, 0.9787, 2.2409]), 'target': tensor(49)}"
      ]
     },
     "execution_count": 6,
     "metadata": {},
     "output_type": "execute_result"
    }
   ],
   "source": [
    "dataset[0]"
   ]
  },
  {
   "cell_type": "code",
   "execution_count": 7,
   "id": "abc05786-e070-400b-b017-826015545541",
   "metadata": {},
   "outputs": [
    {
     "data": {
      "text/plain": [
       "tensor([1.7641, 0.4002, 0.9787, 2.2409])"
      ]
     },
     "execution_count": 7,
     "metadata": {},
     "output_type": "execute_result"
    }
   ],
   "source": [
    "dataset[0]['sample']"
   ]
  },
  {
   "cell_type": "code",
   "execution_count": 8,
   "id": "0a853b88-a873-428d-b2e0-518df788c2d7",
   "metadata": {},
   "outputs": [
    {
     "data": {
      "text/plain": [
       "100"
      ]
     },
     "execution_count": 8,
     "metadata": {},
     "output_type": "execute_result"
    }
   ],
   "source": [
    "dataset.__len__()"
   ]
  },
  {
   "cell_type": "markdown",
   "id": "61977df9-627d-4865-a255-f8edec900e3c",
   "metadata": {},
   "source": [
    "## 2. Dataloader\n",
    "\n",
    "Trước khi tới ứng dụng Dataloader, cần tìm hiểu về khái niệm Epoch và Batchsize.\n",
    "\n",
    "**Batch Size**\n",
    "- Khi đưa toàn bộ data trong một lần feed foward vào model, thường việc tính toán sẽ rất chậm, có thể là bất khả thi. \n",
    "- Vì vậy ta đưa 1 lượng data (^2, 8-16-32-64 rows) cho 1 lần thực hiện feed foward. Mặc dù điều này có thể gây vấn đề optimize local (not optimize global). \n",
    "\n",
    "Để dễ dàng chia data set thành nhiều batch size một cách ngầu nhiên, ta có thể sử dụng Dataloader.\n",
    "- Tạo dataset với format của pytorch. Dễ dàng tạo ra nhiều batch khác nhau."
   ]
  },
  {
   "cell_type": "code",
   "execution_count": 9,
   "id": "fc2cc797-e3de-4891-8e99-481481980f9a",
   "metadata": {},
   "outputs": [],
   "source": [
    "from torch.utils.data import DataLoader"
   ]
  },
  {
   "cell_type": "code",
   "execution_count": 10,
   "id": "b66f18c8-c18f-4175-8857-42ee4d728202",
   "metadata": {},
   "outputs": [],
   "source": [
    "data_loader = DataLoader(dataset, batch_size=8, shuffle=False)"
   ]
  },
  {
   "cell_type": "markdown",
   "id": "3a4e6581-750d-44ef-8a84-3c19b022937a",
   "metadata": {},
   "source": [
    "Với batch size = 8. Tức data chia thành nhiều batch, trong đó 1 batch sẽ chưa 8 rows data\n"
   ]
  },
  {
   "cell_type": "code",
   "execution_count": 12,
   "id": "88caba71-4448-4e88-a76d-80bc74a2f5ac",
   "metadata": {},
   "outputs": [
    {
     "name": "stdout",
     "output_type": "stream",
     "text": [
      "{'sample': tensor([[ 1.7641,  0.4002,  0.9787,  2.2409],\n",
      "        [ 1.8676, -0.9773,  0.9501, -0.1514],\n",
      "        [-0.1032,  0.4106,  0.1440,  1.4543],\n",
      "        [ 0.7610,  0.1217,  0.4439,  0.3337],\n",
      "        [ 1.4941, -0.2052,  0.3131, -0.8541],\n",
      "        [-2.5530,  0.6536,  0.8644, -0.7422],\n",
      "        [ 2.2698, -1.4544,  0.0458, -0.1872],\n",
      "        [ 1.5328,  1.4694,  0.1549,  0.3782]]), 'target': tensor([ 49,   4,  11,  19,  23, -29,  -3,  81])}\n"
     ]
    }
   ],
   "source": [
    "for data in data_loader:\n",
    "    print(data)\n",
    "    break"
   ]
  },
  {
   "cell_type": "markdown",
   "id": "26519946-8133-4b7d-bf48-55d272a708fb",
   "metadata": {},
   "source": [
    "## 3. Gradient and Backward\n",
    "\n",
    "Trước khi build model Linear Regression đơn giản với Pytorch, ta cần làm rõ vấn đề sau :\n",
    "- Cách thức Pytoch tính đạo hàm (Gradient)\n",
    "- Khái niệm về backward\n",
    "- Tính toán Loss function\n",
    "- Optimization với loss function, trong đó sử dụng Gradient. \n",
    "\n",
    "\n",
    "https://www.tutorialspoint.com/what-does-backward-do-in-pytorch\n",
    "\n",
    "https://medium.com/@monadsblog/pytorch-backward-function-e5e2b7e60140\n",
    "\n",
    "https://abishekbashyall.medium.com/playing-with-backward-method-in-pytorch-bd34b58745a0\n",
    "\n",
    "- Có thể tính toán đạo hàm tại một node bằng cách set `requires_grad = True.`\n",
    "\n",
    "\n"
   ]
  },
  {
   "cell_type": "markdown",
   "id": "e434ecbf-59aa-45bd-881f-4ffdfa9b2e10",
   "metadata": {},
   "source": [
    "### 3.1 Basic Gradient and Backward"
   ]
  },
  {
   "cell_type": "markdown",
   "id": "36dde3da-b216-4027-9c0d-dfbbe73982dd",
   "metadata": {},
   "source": [
    "Cho function, F = a*b\n",
    "Với \n",
    "- a = 10 \n",
    "- b = 10\n",
    "\n",
    "> Đạo hàm riêng của a : ∂F/∂a = b => ∂F/∂a = 20\n",
    "\n",
    "> Đạo hàm riêng của b : ∂F/∂b = a => ∂F/∂b = 10\n",
    "\n",
    "**Note**\n",
    "- Đạo hàm chỉ được tính sau khi backward được gọi.\n",
    "- Backward là quá trình tính toán đạo hàm từ tensor thực hiện lệnh backward cho tới toàn bộ tensor tại lớp lá (Graph leaves)"
   ]
  },
  {
   "cell_type": "code",
   "execution_count": 23,
   "id": "21fd00f9-bc51-4e19-bf1d-078f9a3cc9db",
   "metadata": {},
   "outputs": [],
   "source": [
    "a = torch.tensor([10.], requires_grad=True)\n",
    "b = torch.tensor([20.], requires_grad=True)\n",
    "\n",
    "x = torch.tensor([20.])\n",
    "\n",
    "f = torch.matmul(a,  b) + x"
   ]
  },
  {
   "cell_type": "code",
   "execution_count": 24,
   "id": "39ca1d96-2ae3-4d0a-9246-0776f75ae98d",
   "metadata": {},
   "outputs": [],
   "source": [
    "f.backward()"
   ]
  },
  {
   "cell_type": "code",
   "execution_count": 25,
   "id": "b9ecf74c-bda2-4255-b8c9-5e5ea0a4e5d9",
   "metadata": {},
   "outputs": [
    {
     "name": "stdout",
     "output_type": "stream",
     "text": [
      "Gradient of a :  tensor([20.]) Gradient b :  tensor([10.])\n"
     ]
    }
   ],
   "source": [
    "print(\"Gradient of a : \", a.grad, \"Gradient b : \", b.grad)"
   ]
  },
  {
   "cell_type": "markdown",
   "id": "4d4cbf55-87b9-45d0-8005-035c9083aeb4",
   "metadata": {},
   "source": [
    "### 3.2 Loss\n",
    "\n"
   ]
  },
  {
   "attachments": {
    "ca95ae4f-d10d-48e0-a904-c72aa5d093de.png": {
     "image/png": "[encoded data removed]"
    }
   },
   "cell_type": "markdown",
   "id": "3c380739-ef47-4884-9f86-f8adfa02e1e2",
   "metadata": {},
   "source": [
    "![image.png](attachment:ca95ae4f-d10d-48e0-a904-c72aa5d093de.png)\n",
    "\n",
    "**Backward()** Computes the gradient of current tensor w.r.t. graph leaves.\n",
    "\n",
    "\n",
    "- Gradient chỉ được tính sau khi function `backward()` được gọi\n",
    "- Chỉ những left node mới có thể tính được gradient. Ví dụ tại `W, b hoặc X`\n",
    "\n",
    "**NOTE**:\n",
    "\n",
    "> Không thể run backward cho z. Nếu z là dim 1,1 thì còn tính được, nhưng nếu dim > 1 thì báo lỗi. Nguyên nhân cần tìm hiểu thêm. "
   ]
  },
  {
   "cell_type": "code",
   "execution_count": 32,
   "id": "77fd50a1-ea06-4ed0-873f-3241d7789fef",
   "metadata": {},
   "outputs": [],
   "source": [
    "x = torch.randn(10, 8)  # input tensor. Giả sử ta có 10 samples, mỗi sample gồm 8 feature\n",
    "y = torch.zeros(10)    # Target tương ứng với giá trị y thực tế ứng với 10 samples trên.\n",
    "\n",
    "W = torch.randn(8, requires_grad=True) # weights tương ứng với 8 features trên\n",
    "b = torch.randn(1, requires_grad=True) # bias vector\n",
    "\n",
    "z = torch.matmul(x, W) + b # output của model.\n",
    "\n",
    "loss = torch.nn.functional.binary_cross_entropy_with_logits(z, y)  # Loss values"
   ]
  },
  {
   "cell_type": "code",
   "execution_count": 33,
   "id": "56e53e05-b25f-4c35-8f7b-1a4e54eb2d51",
   "metadata": {},
   "outputs": [],
   "source": [
    "loss.backward()"
   ]
  },
  {
   "cell_type": "code",
   "execution_count": 34,
   "id": "e0b0b781-460e-48e6-a7a3-273b8ea1c62d",
   "metadata": {},
   "outputs": [
    {
     "name": "stdout",
     "output_type": "stream",
     "text": [
      "Gradient of weight is  tensor([ 0.0570,  0.0378, -0.2207, -0.0791, -0.0656, -0.1663, -0.2806,  0.1156]) . Gradient of b is  tensor([-1.4276], requires_grad=True)\n"
     ]
    }
   ],
   "source": [
    "print(\"Gradient of weight is \", W.grad, \". Gradient of b is \", b) "
   ]
  },
  {
   "cell_type": "markdown",
   "id": "bb90297a-62af-47c7-81f8-72953c4b9153",
   "metadata": {},
   "source": [
    "## 4. Simple Linear Regression Model"
   ]
  },
  {
   "cell_type": "markdown",
   "id": "ec278289-0df2-416a-abf7-2cdb1b6027a9",
   "metadata": {},
   "source": [
    "### 4.1 Generate data\n",
    "\n",
    "- Features : Gồm 4 biến x1 ~ x4. dạng float\n",
    "- Target : Numeric. "
   ]
  },
  {
   "cell_type": "code",
   "execution_count": 47,
   "id": "557b7624-aad9-41ba-b91d-f3ef4975bf53",
   "metadata": {},
   "outputs": [],
   "source": [
    "features = ['x1', 'x2', 'x3', 'x4']\n",
    "labels = 'y'\n",
    "df_data = pd.DataFrame(X, columns=features)\n",
    "df_data[labels] = y"
   ]
  },
  {
   "cell_type": "code",
   "execution_count": 188,
   "id": "1595db4a-548d-4016-9375-a4debf5a4955",
   "metadata": {},
   "outputs": [
    {
     "data": {
      "text/html": [
       "<div>\n",
       "<style scoped>\n",
       "    .dataframe tbody tr th:only-of-type {\n",
       "        vertical-align: middle;\n",
       "    }\n",
       "\n",
       "    .dataframe tbody tr th {\n",
       "        vertical-align: top;\n",
       "    }\n",
       "\n",
       "    .dataframe thead th {\n",
       "        text-align: right;\n",
       "    }\n",
       "</style>\n",
       "<table border=\"1\" class=\"dataframe\">\n",
       "  <thead>\n",
       "    <tr style=\"text-align: right;\">\n",
       "      <th></th>\n",
       "      <th>x1</th>\n",
       "      <th>x2</th>\n",
       "      <th>x3</th>\n",
       "      <th>x4</th>\n",
       "      <th>y</th>\n",
       "    </tr>\n",
       "  </thead>\n",
       "  <tbody>\n",
       "    <tr>\n",
       "      <th>0</th>\n",
       "      <td>1.764052</td>\n",
       "      <td>0.400157</td>\n",
       "      <td>0.978738</td>\n",
       "      <td>2.240893</td>\n",
       "      <td>49.822907</td>\n",
       "    </tr>\n",
       "    <tr>\n",
       "      <th>1</th>\n",
       "      <td>1.867558</td>\n",
       "      <td>-0.977278</td>\n",
       "      <td>0.950088</td>\n",
       "      <td>-0.151357</td>\n",
       "      <td>4.877286</td>\n",
       "    </tr>\n",
       "    <tr>\n",
       "      <th>2</th>\n",
       "      <td>-0.103219</td>\n",
       "      <td>0.410599</td>\n",
       "      <td>0.144044</td>\n",
       "      <td>1.454274</td>\n",
       "      <td>11.914875</td>\n",
       "    </tr>\n",
       "    <tr>\n",
       "      <th>3</th>\n",
       "      <td>0.761038</td>\n",
       "      <td>0.121675</td>\n",
       "      <td>0.443863</td>\n",
       "      <td>0.333674</td>\n",
       "      <td>19.753078</td>\n",
       "    </tr>\n",
       "    <tr>\n",
       "      <th>4</th>\n",
       "      <td>1.494079</td>\n",
       "      <td>-0.205158</td>\n",
       "      <td>0.313068</td>\n",
       "      <td>-0.854096</td>\n",
       "      <td>23.607000</td>\n",
       "    </tr>\n",
       "    <tr>\n",
       "      <th>...</th>\n",
       "      <td>...</td>\n",
       "      <td>...</td>\n",
       "      <td>...</td>\n",
       "      <td>...</td>\n",
       "      <td>...</td>\n",
       "    </tr>\n",
       "    <tr>\n",
       "      <th>95</th>\n",
       "      <td>-1.698106</td>\n",
       "      <td>0.387280</td>\n",
       "      <td>-2.255564</td>\n",
       "      <td>-1.022507</td>\n",
       "      <td>-21.564910</td>\n",
       "    </tr>\n",
       "    <tr>\n",
       "      <th>96</th>\n",
       "      <td>0.038631</td>\n",
       "      <td>-1.656715</td>\n",
       "      <td>-0.985511</td>\n",
       "      <td>-1.471835</td>\n",
       "      <td>-55.818011</td>\n",
       "    </tr>\n",
       "    <tr>\n",
       "      <th>97</th>\n",
       "      <td>1.648135</td>\n",
       "      <td>0.164228</td>\n",
       "      <td>0.567290</td>\n",
       "      <td>-0.222675</td>\n",
       "      <td>39.385820</td>\n",
       "    </tr>\n",
       "    <tr>\n",
       "      <th>98</th>\n",
       "      <td>-0.353432</td>\n",
       "      <td>-1.616474</td>\n",
       "      <td>-0.291837</td>\n",
       "      <td>-0.761492</td>\n",
       "      <td>-62.477272</td>\n",
       "    </tr>\n",
       "    <tr>\n",
       "      <th>99</th>\n",
       "      <td>0.857924</td>\n",
       "      <td>1.141102</td>\n",
       "      <td>1.466579</td>\n",
       "      <td>0.852552</td>\n",
       "      <td>56.572129</td>\n",
       "    </tr>\n",
       "  </tbody>\n",
       "</table>\n",
       "<p>100 rows × 5 columns</p>\n",
       "</div>"
      ],
      "text/plain": [
       "          x1        x2        x3        x4          y\n",
       "0   1.764052  0.400157  0.978738  2.240893  49.822907\n",
       "1   1.867558 -0.977278  0.950088 -0.151357   4.877286\n",
       "2  -0.103219  0.410599  0.144044  1.454274  11.914875\n",
       "3   0.761038  0.121675  0.443863  0.333674  19.753078\n",
       "4   1.494079 -0.205158  0.313068 -0.854096  23.607000\n",
       "..       ...       ...       ...       ...        ...\n",
       "95 -1.698106  0.387280 -2.255564 -1.022507 -21.564910\n",
       "96  0.038631 -1.656715 -0.985511 -1.471835 -55.818011\n",
       "97  1.648135  0.164228  0.567290 -0.222675  39.385820\n",
       "98 -0.353432 -1.616474 -0.291837 -0.761492 -62.477272\n",
       "99  0.857924  1.141102  1.466579  0.852552  56.572129\n",
       "\n",
       "[100 rows x 5 columns]"
      ]
     },
     "execution_count": 188,
     "metadata": {},
     "output_type": "execute_result"
    }
   ],
   "source": [
    "df_data"
   ]
  },
  {
   "cell_type": "markdown",
   "id": "06592df0-5a46-4a07-a4fb-b87c789e8edd",
   "metadata": {},
   "source": [
    "**DataSet**\n",
    "\n",
    "Data sử dụng trong pytorch cần được chuyển về dạng Objects. Tối thiểu gồm 2 function căn bản :\n",
    "- `__len__` : Độ dài của dataset\n",
    "- `__getitem__` : Return về 1 sample data đã được convert qua dạng tensor"
   ]
  },
  {
   "cell_type": "code",
   "execution_count": 189,
   "id": "7f666392-d3e4-4a5b-b01a-b71129314bd4",
   "metadata": {},
   "outputs": [],
   "source": [
    "class CustomDataset:\n",
    "    def __init__(self, data, target):\n",
    "        self.data = data\n",
    "        self.target = target\n",
    "    \n",
    "    def __len__(self):\n",
    "        \"\"\"\n",
    "        Return length of data\n",
    "        \"\"\"\n",
    "        return len(self.data)\n",
    "    \n",
    "    def __getitem__(self, idx):\n",
    "        \"\"\"\n",
    "        Return sample at idx as dictionary and data type is tensor\n",
    "        \"\"\"\n",
    "        current_sample = self.data[idx, :]\n",
    "        current_target = self.target[idx]\n",
    "        return {\n",
    "            \"sample\": torch.tensor(current_sample, dtype=torch.float),\n",
    "            \"target\": torch.tensor(current_target, dtype=torch.float)\n",
    "        }\n",
    "    \n",
    "    def to_pandas(self, features, target):\n",
    "        \"\"\"\n",
    "        Not required, this function used to visualize predict values\n",
    "        \"\"\"\n",
    "        df = pd.DataFrame(self.data, columns=features)\n",
    "        df[target] = self.target\n",
    "        \n",
    "        return df"
   ]
  },
  {
   "cell_type": "code",
   "execution_count": 127,
   "id": "2340a5d1-3f16-4645-aefb-4df651e76587",
   "metadata": {},
   "outputs": [],
   "source": [
    "dataset = CustomDataset(data=X, target=y)"
   ]
  },
  {
   "cell_type": "code",
   "execution_count": 129,
   "id": "deacc30b-6d11-4035-8a05-843ef89b5f43",
   "metadata": {},
   "outputs": [],
   "source": [
    "dataloader = DataLoader(dataset, batch_size=8)"
   ]
  },
  {
   "cell_type": "markdown",
   "id": "2cfd661d-67a7-446c-9c65-eb15e0120a95",
   "metadata": {},
   "source": [
    "### 4.2 Build model\n",
    "\n",
    "- Loss Function sử dụng là MSE. https://pytorch.org/docs/stable/generated/torch.nn.MSELoss.html#torch.nn.MSELoss"
   ]
  },
  {
   "cell_type": "code",
   "execution_count": 191,
   "id": "ebe7fd74-20b6-45c3-8f5f-fc5d9b603b87",
   "metadata": {},
   "outputs": [],
   "source": [
    "# Define model \n",
    "\n",
    "model = lambda x, w, b: torch.matmul(x, w) + b"
   ]
  },
  {
   "cell_type": "code",
   "execution_count": 193,
   "id": "290b75d9-6ba9-4f97-8e93-4a99ac20c025",
   "metadata": {},
   "outputs": [
    {
     "name": "stdout",
     "output_type": "stream",
     "text": [
      "Epoch :  0  Loss :  20441.014770507812\n",
      "Epoch :  10  Loss :  11744.809295654297\n",
      "Epoch :  20  Loss :  6913.106582641602\n",
      "Epoch :  30  Loss :  4175.6396484375\n",
      "Epoch :  40  Loss :  2589.5048599243164\n",
      "Epoch :  50  Loss :  1647.4812316894531\n",
      "Epoch :  60  Loss :  1073.266757965088\n",
      "Epoch :  70  Loss :  714.0120697021484\n",
      "Epoch :  80  Loss :  483.58666801452637\n",
      "Epoch :  90  Loss :  332.403281211853\n"
     ]
    }
   ],
   "source": [
    "# Init weight and b\n",
    "w = torch.randn(4, 1, requires_grad=True)\n",
    "b = torch.randn(1, requires_grad=True)\n",
    "\n",
    "learning_rate = 0.001\n",
    "eporchs = 100\n",
    "\n",
    "for epoch in range(eporchs):\n",
    "        \n",
    "    epoch_loss = 0\n",
    "    for batch in dataloader:\n",
    "        _x = batch[\"sample\"]\n",
    "        _y = batch[\"target\"].reshape(-1,1)\n",
    "        \n",
    "        output = model(_x, w, b)\n",
    "        \n",
    "        loss = torch.nn.MSELoss()(output, _y)\n",
    "        \n",
    "        loss.backward()\n",
    "        \n",
    "        # Optimizer\n",
    "        with torch.no_grad():\n",
    "            w = w - learning_rate * w.grad\n",
    "            b = b - learning_rate * b.grad\n",
    "            \n",
    "        w.requires_grad_(True)\n",
    "        b.requires_grad_(True)\n",
    "        \n",
    "        epoch_loss += loss.item()\n",
    "        \n",
    "    if epoch % 10 == 0:\n",
    "        print(\"Epoch : \",epoch, \" Loss : \",epoch_loss)"
   ]
  },
  {
   "cell_type": "code",
   "execution_count": 194,
   "id": "f543519d-a3c1-4d43-8b0f-533eef1be7ac",
   "metadata": {},
   "outputs": [
    {
     "name": "stdout",
     "output_type": "stream",
     "text": [
      "Weight of w after learning  tensor([[18.5350],\n",
      "        [30.4026],\n",
      "        [ 2.9158],\n",
      "        [ 0.9457]], requires_grad=True) . Bias =  tensor([-0.2636], requires_grad=True)\n"
     ]
    }
   ],
   "source": [
    "print(\"Weight of w after learning \", w, \". Bias = \", b)"
   ]
  },
  {
   "cell_type": "markdown",
   "id": "7caf7b19-6c1f-4d2d-8226-87cc02ec7a3a",
   "metadata": {},
   "source": [
    "### 4.3 Visualize predict"
   ]
  },
  {
   "cell_type": "markdown",
   "id": "e8b22e14-303d-41cf-b123-5a858d144b16",
   "metadata": {},
   "source": [
    "**X : Must be a tensor. We used customDataset to make each sample become a tensor**"
   ]
  },
  {
   "cell_type": "code",
   "execution_count": 195,
   "id": "6bccc8b2-8b5b-4a16-afaf-b4af56503e20",
   "metadata": {},
   "outputs": [],
   "source": [
    "predict_dataset = CustomDataset(df_data[[\"x1\", \"x2\", \"x3\", \"x4\"]].values, df_data[\"y\"].values)"
   ]
  },
  {
   "cell_type": "code",
   "execution_count": 196,
   "id": "8a767011-abad-48c1-bacf-798512dca6f2",
   "metadata": {},
   "outputs": [],
   "source": [
    "y_predict = []\n",
    "\n",
    "for sample in predict_dataset:\n",
    "    _x = sample[\"sample\"]\n",
    "    _y_predict = model(_x, w, b)\n",
    "    \n",
    "    y_predict.append(_y_predict.tolist()[0])"
   ]
  },
  {
   "cell_type": "code",
   "execution_count": 197,
   "id": "3353b863-6164-490e-8699-c908a8822562",
   "metadata": {},
   "outputs": [],
   "source": [
    "df_predict = predict_dataset.to_pandas(features=[\"x1\",  \"x2\", \"x3\", \"x4\"], target=\"y\")"
   ]
  },
  {
   "cell_type": "code",
   "execution_count": 198,
   "id": "88b2c0f5-62f0-45bc-9f9c-ba65e5fcbd7a",
   "metadata": {},
   "outputs": [],
   "source": [
    "df_predict[\"predict\"] = y_predict"
   ]
  },
  {
   "cell_type": "code",
   "execution_count": 199,
   "id": "04c43741-0434-40e5-8f44-59c45d87248d",
   "metadata": {},
   "outputs": [
    {
     "data": {
      "text/plain": [
       "<AxesSubplot:>"
      ]
     },
     "execution_count": 199,
     "metadata": {},
     "output_type": "execute_result"
    },
    {
     "data": {
      "image/png": "[encoded data removed]",
      "text/plain": [
       "<Figure size 432x288 with 1 Axes>"
      ]
     },
     "metadata": {
      "needs_background": "light"
     },
     "output_type": "display_data"
    }
   ],
   "source": [
    "df_predict[[\"y\", \"predict\"]].plot()"
   ]
  },
  {
   "cell_type": "markdown",
   "id": "643698df-55ba-4d70-9ad5-db97b97f2901",
   "metadata": {},
   "source": [
    "# II. Hardware"
   ]
  },
  {
   "cell_type": "code",
   "execution_count": 27,
   "id": "6e8b4196-cf70-48a0-b26a-f4a4ef4dba80",
   "metadata": {},
   "outputs": [],
   "source": [
    "import torch"
   ]
  },
  {
   "cell_type": "markdown",
   "id": "7e072a8b-d78a-4421-bbc9-1112e20c5291",
   "metadata": {},
   "source": [
    "## 1. Driver check"
   ]
  },
  {
   "cell_type": "markdown",
   "id": "bbebd49a-14a8-48a1-bded-bc6aff4e8927",
   "metadata": {},
   "source": [
    "**Kiểm tra GPU Nvdia driver đã được cài đặt chưa**"
   ]
  },
  {
   "cell_type": "code",
   "execution_count": 26,
   "id": "f8d67fd4-959e-4c56-afc4-288485082446",
   "metadata": {},
   "outputs": [
    {
     "name": "stdout",
     "output_type": "stream",
     "text": [
      "True\n"
     ]
    }
   ],
   "source": [
    "print(torch.cuda.is_available())"
   ]
  },
  {
   "cell_type": "markdown",
   "id": "48bff42a-ee2c-4552-b846-ad31c179bb30",
   "metadata": {},
   "source": [
    "**Toàn bộ tensor đều được khởi tạo mặc định trên CPU.**\n",
    "\n",
    "> [variable].is_cuda `# Check 1 variable có được mặc định tính toán trên GPU không`"
   ]
  },
  {
   "cell_type": "code",
   "execution_count": 20,
   "id": "eb80316e-730e-4e13-8e9e-6f77b242a79f",
   "metadata": {},
   "outputs": [
    {
     "name": "stdout",
     "output_type": "stream",
     "text": [
      "False\n"
     ]
    }
   ],
   "source": [
    "x1 = torch.tensor([0.1, 0.2, 0.3])\n",
    "print(x1.is_cuda)"
   ]
  },
  {
   "cell_type": "markdown",
   "id": "ee74fb68-b36a-48cc-87cd-bc381259e98f",
   "metadata": {},
   "source": [
    "Cách check model chạy trên CPU or GPU."
   ]
  },
  {
   "cell_type": "code",
   "execution_count": 24,
   "id": "ff5e6978-7085-4f89-87b4-03f5eac84c6e",
   "metadata": {},
   "outputs": [
    {
     "name": "stdout",
     "output_type": "stream",
     "text": [
      "False\n"
     ]
    }
   ],
   "source": [
    "model = torch.nn.Linear(5, 1)\n",
    "print(next(model.parameters()).is_cuda)"
   ]
  },
  {
   "cell_type": "markdown",
   "id": "248de5d0-de2c-4740-bae3-8428e4be4e62",
   "metadata": {},
   "source": [
    "## 2. Convert CPU to GPU"
   ]
  },
  {
   "cell_type": "code",
   "execution_count": 29,
   "id": "251eacb4-2f92-4c5d-8b9c-580495590b9e",
   "metadata": {},
   "outputs": [
    {
     "name": "stdout",
     "output_type": "stream",
     "text": [
      "cuda:0\n"
     ]
    }
   ],
   "source": [
    "# Define divice name. Nếu GPU có thể sử dụng, device sẽ có tên cuda:0\n",
    "device = torch.device(\"cuda:0\" if torch.cuda.is_available() else \"cpu\")\n",
    "print(device)"
   ]
  },
  {
   "cell_type": "code",
   "execution_count": 34,
   "id": "f6071796-7ce9-43e7-b551-3ab5cc6bd7e1",
   "metadata": {},
   "outputs": [
    {
     "name": "stdout",
     "output_type": "stream",
     "text": [
      "Is variable run on GPU :  True\n",
      "Is model run on GPU : True\n"
     ]
    }
   ],
   "source": [
    "x1 = x1.to(device)\n",
    "print(\"Is variable run on GPU : \", x1.is_cuda)\n",
    "\n",
    "model = model.to(device)\n",
    "print(\"Is model run on GPU :\", next(model.parameters()).is_cuda)"
   ]
  },
  {
   "cell_type": "markdown",
   "id": "18e2d46e-df75-4c81-98c7-a70191624d59",
   "metadata": {},
   "source": [
    "*Tensor cuda package có hỗ trợ function convert qua gpu*"
   ]
  },
  {
   "cell_type": "code",
   "execution_count": 39,
   "id": "5b3e065e-1f82-470a-b962-c8ded67a5bfc",
   "metadata": {},
   "outputs": [
    {
     "name": "stdout",
     "output_type": "stream",
     "text": [
      "Is x2 run on GPU :  True\n"
     ]
    }
   ],
   "source": [
    "x2 = torch.tensor([0.1, 0.2])\n",
    "x2 = x2.cuda()\n",
    "print(\"Is x2 run on GPU : \", x2.is_cuda)"
   ]
  },
  {
   "cell_type": "code",
   "execution_count": 48,
   "id": "00a7ccf3-dc7b-48fd-84c8-330042d6d014",
   "metadata": {},
   "outputs": [
    {
     "name": "stdout",
     "output_type": "stream",
     "text": [
      "Number of device :  1\n",
      "Current using index of device :  0\n",
      "Device name is :  NVIDIA GeForce RTX 3070 Laptop GPU\n",
      "Device memory is :  2097152\n",
      "Memory using is :  3072\n"
     ]
    },
    {
     "name": "stderr",
     "output_type": "stream",
     "text": [
      "C:\\Users\\Onsiter\\.conda\\envs\\nlp\\lib\\site-packages\\torch\\cuda\\memory.py:386: FutureWarning: torch.cuda.memory_cached has been renamed to torch.cuda.memory_reserved\n",
      "  FutureWarning)\n"
     ]
    }
   ],
   "source": [
    "print(\"Number of device : \", torch.cuda.device_count())\n",
    "\n",
    "print(\"Current using index of device : \", torch.cuda.current_device())\n",
    "\n",
    "print(\"Device name is : \", torch.cuda.get_device_name(0))\n",
    "\n",
    "print(\"Device memory is : \", torch.cuda.memory_cached())\n",
    "\n",
    "print(\"Memory using is : \", torch.cuda.memory_allocated())"
   ]
  },
  {
   "cell_type": "markdown",
   "id": "c174094d-c5df-41b1-ada9-22458d26f5ab",
   "metadata": {},
   "source": [
    "Clear GPU cache"
   ]
  },
  {
   "cell_type": "code",
   "execution_count": 49,
   "id": "a13116d5-577c-4ddf-ac29-6af9e7f2bb7a",
   "metadata": {},
   "outputs": [],
   "source": [
    "torch.cuda.empty_cache()"
   ]
  },
  {
   "cell_type": "code",
   "execution_count": null,
   "id": "96010b09-e6a0-4d06-9ae0-047cfb2f89f3",
   "metadata": {},
   "outputs": [],
   "source": []
  }
 ],
 "metadata": {
  "kernelspec": {
   "display_name": "Python 3 (ipykernel)",
   "language": "python",
   "name": "python3"
  },
  "language_info": {
   "codemirror_mode": {
    "name": "ipython",
    "version": 3
   },
   "file_extension": ".py",
   "mimetype": "text/x-python",
   "name": "python",
   "nbconvert_exporter": "python",
   "pygments_lexer": "ipython3",
   "version": "3.7.13"
  }
 },
 "nbformat": 4,
 "nbformat_minor": 5
}
